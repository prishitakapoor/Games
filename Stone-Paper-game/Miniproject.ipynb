{
 "cells": [
  {
   "cell_type": "markdown",
   "metadata": {},
   "source": [
    "# Game of Stone, Paper and Scissors using Python"
   ]
  },
  {
   "cell_type": "code",
   "execution_count": 4,
   "metadata": {
    "collapsed": true
   },
   "outputs": [],
   "source": [
    "#import random for generating computer choice.\n",
    "import random "
   ]
  },
  {
   "cell_type": "code",
   "execution_count": 5,
   "metadata": {
    "collapsed": true
   },
   "outputs": [],
   "source": [
    "#list containing options\n",
    "options = ['Stone','Paper','Scissors','ERROR']"
   ]
  },
  {
   "cell_type": "code",
   "execution_count": 6,
   "metadata": {
    "collapsed": true
   },
   "outputs": [],
   "source": [
    "#USER INPUT\n",
    "def user_input():\n",
    "    print('''0. Stone \n",
    "1. Paper\n",
    "2. Scissors ''');\n",
    "    x = int(input('Enter your choice: '))\n",
    "    if x == 0:\n",
    "        user = options[0]\n",
    "    elif x ==1:\n",
    "        user = options[1]\n",
    "    elif x == 2:\n",
    "        user = options[2]\n",
    "    else:\n",
    "        user = options[3]\n",
    "    return user"
   ]
  },
  {
   "cell_type": "code",
   "execution_count": 7,
   "metadata": {
    "collapsed": true
   },
   "outputs": [],
   "source": [
    "#COMPUTER - PC INPUT\n",
    "def pc_input():\n",
    "    y = random.randint(0,2)\n",
    "    if y == 0:\n",
    "        pc = options[0]\n",
    "    elif y ==1:\n",
    "        pc = options[1]\n",
    "    elif y == 2:\n",
    "        pc = options[2]\n",
    "    return pc"
   ]
  },
  {
   "cell_type": "code",
   "execution_count": 8,
   "metadata": {
    "collapsed": true
   },
   "outputs": [],
   "source": [
    "#PLAY GAME FUNCTION\n",
    "def play(u,p):\n",
    "    flag=True\n",
    "    while(flag != False):\n",
    "        a = user_input()\n",
    "        b = pc_input()\n",
    "        if (a == b):\n",
    "            print(\"User: \",a,\"PC: \",b)\n",
    "            print(\"MATCH TIE\\n\")\n",
    "        elif (a==\"Paper\"):\n",
    "            if(b==\"Stone\"):\n",
    "                print(\"User: \",a,\"PC: \",b)\n",
    "                print(\"YOU WON!\\n\")\n",
    "                u=u+1\n",
    "            elif(b==\"Scissors\"):\n",
    "                print(\"User: \",a,\"PC: \",b)\n",
    "                print(\"YOU LOSE!\\n\")\n",
    "                p=p+1\n",
    "        elif (a==\"Stone\"):\n",
    "            if(b==\"Paper\"):\n",
    "                print(\"User: \",a,\"PC: \",b)\n",
    "                print(\"YOU LOSE!\\n\")\n",
    "                p=p+1\n",
    "            elif(b==\"Scissors\"):\n",
    "                print(\"User: \",a,\"PC: \",b)\n",
    "                print(\"YOU WON!\\n\")\n",
    "                u=u+1\n",
    "        elif (a==\"Scissors\"):\n",
    "            if(b==\"Paper\"):\n",
    "                print(\"User: \",a,\"PC: \",b)\n",
    "                print(\"YOU WON!\\n\")\n",
    "                u=u+1\n",
    "            elif(b==\"Stone\"):\n",
    "                print(\"User: \",a,\"PC: \",b)\n",
    "                print(\"YOU LOSE!\\n\")\n",
    "                p=p+1\n",
    "        res=input(\"Want to play again ? (y/n): \")\n",
    "        if res == \"y\":\n",
    "            flag = True\n",
    "        else:\n",
    "            flag = False\n",
    "    return u,p\n"
   ]
  },
  {
   "cell_type": "code",
   "execution_count": 9,
   "metadata": {},
   "outputs": [
    {
     "name": "stdout",
     "output_type": "stream",
     "text": [
      "0. Stone \n",
      "1. Paper\n",
      "2. Scissors \n",
      "Enter your choice: 0\n",
      "User:  Stone PC:  Stone\n",
      "MATCH TIE\n",
      "\n",
      "Want to play again ? (y/n): y\n",
      "0. Stone \n",
      "1. Paper\n",
      "2. Scissors \n",
      "Enter your choice: 1\n",
      "User:  Paper PC:  Scissors\n",
      "YOU LOSE!\n",
      "\n",
      "Want to play again ? (y/n): y\n",
      "0. Stone \n",
      "1. Paper\n",
      "2. Scissors \n",
      "Enter your choice: 2\n",
      "User:  Scissors PC:  Paper\n",
      "YOU WON!\n",
      "\n",
      "Want to play again ? (y/n): y\n",
      "0. Stone \n",
      "1. Paper\n",
      "2. Scissors \n",
      "Enter your choice: 0\n",
      "User:  Stone PC:  Scissors\n",
      "YOU WON!\n",
      "\n",
      "Want to play again ? (y/n): n\n",
      "Result: \n",
      "User - PC: 2 - 1\n"
     ]
    }
   ],
   "source": [
    "## call play with arguments (0,0)\n",
    "#intinally score of both the players is ZERO\n",
    "score=play(0,0)\n",
    "print(\"Result: \")\n",
    "print(\"User - PC:\",score[0],\"-\",score[1])"
   ]
  }
 ],
 "metadata": {
  "kernelspec": {
   "display_name": "Python 3",
   "language": "python",
   "name": "python3"
  },
  "language_info": {
   "codemirror_mode": {
    "name": "ipython",
    "version": 3
   },
   "file_extension": ".py",
   "mimetype": "text/x-python",
   "name": "python",
   "nbconvert_exporter": "python",
   "pygments_lexer": "ipython3",
   "version": "3.6.3"
  }
 },
 "nbformat": 4,
 "nbformat_minor": 2
}
